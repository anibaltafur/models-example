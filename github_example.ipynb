{
  "nbformat": 4,
  "nbformat_minor": 0,
  "metadata": {
    "colab": {
      "name": "github_example.ipynb",
      "provenance": [],
      "collapsed_sections": [],
      "authorship_tag": "ABX9TyMvjI1vzmGWyJByupgHZr3A",
      "include_colab_link": true
    },
    "kernelspec": {
      "name": "python3",
      "display_name": "Python 3"
    },
    "language_info": {
      "name": "python"
    }
  },
  "cells": [
    {
      "cell_type": "markdown",
      "metadata": {
        "id": "view-in-github",
        "colab_type": "text"
      },
      "source": [
        "<a href=\"https://colab.research.google.com/github/anibaltafur/models-example/blob/main/github_example.ipynb\" target=\"_parent\"><img src=\"https://colab.research.google.com/assets/colab-badge.svg\" alt=\"Open In Colab\"/></a>"
      ]
    },
    {
      "cell_type": "markdown",
      "source": [
        "# Example of basic usage of Git in Python\n"
      ],
      "metadata": {
        "id": "wJ208tLtf3HG"
      }
    },
    {
      "cell_type": "code",
      "source": [
        "# Installing Git for Python\n",
        "%%capture\n",
        "!pip install GitPython"
      ],
      "metadata": {
        "id": "2_YJLgiiP2v2"
      },
      "execution_count": 1,
      "outputs": []
    },
    {
      "cell_type": "code",
      "execution_count": 2,
      "metadata": {
        "id": "cY7xoPFZOkHm"
      },
      "outputs": [],
      "source": [
        "# Importing packages\n",
        "from git import Repo\n",
        "import numpy as np\n",
        "from matplotlib import pyplot as plt"
      ]
    },
    {
      "cell_type": "code",
      "source": [
        "# Cloning a repository with an specific tag (version)\n",
        "# If no branch is specified, the main branch is imported (current version)\n",
        "Repo.clone_from(url=\"https://github.com/anibaltafur/models-example\", to_path=\"./models/\",branch='v0.1')"
      ],
      "metadata": {
        "colab": {
          "base_uri": "https://localhost:8080/"
        },
        "id": "ai9eSOr7P8VQ",
        "outputId": "d28a8993-fb8f-42dd-e30f-109cf4418a9b"
      },
      "execution_count": 3,
      "outputs": [
        {
          "output_type": "execute_result",
          "data": {
            "text/plain": [
              "<git.repo.base.Repo '/content/models/.git'>"
            ]
          },
          "metadata": {},
          "execution_count": 3
        }
      ]
    },
    {
      "cell_type": "code",
      "source": [
        "# Checking version and project history\n",
        "# Note that the head does not show \"MAIN\", indicating that this is not the current version/branch\n",
        "%cd ./models\n",
        "!git log"
      ],
      "metadata": {
        "colab": {
          "base_uri": "https://localhost:8080/"
        },
        "id": "JXr95XFdcX3n",
        "outputId": "37f1e668-f468-4f28-b78e-6168665eac67"
      },
      "execution_count": 4,
      "outputs": [
        {
          "output_type": "stream",
          "name": "stdout",
          "text": [
            "/content/models\n",
            "\u001b[33mcommit d730139c456678e2b396592199e384c296c6c0f9\u001b[m\u001b[33m (\u001b[m\u001b[1;36mHEAD\u001b[m\u001b[33m, \u001b[m\u001b[1;33mtag: v0.1\u001b[m\u001b[33m)\u001b[m\n",
            "Author: Anibal Tafur <atafurg@gmail.com>\n",
            "Date:   Mon Aug 1 21:10:17 2022 -0500\n",
            "\n",
            "    Add files via upload\n",
            "\n",
            "\u001b[33mcommit 10bc65db0efa426a320ef8afb333b1642e9dc26f\u001b[m\n",
            "Author: Anibal Tafur <atafurg@gmail.com>\n",
            "Date:   Mon Aug 1 21:06:23 2022 -0500\n",
            "\n",
            "    Initial commit\n"
          ]
        }
      ]
    },
    {
      "cell_type": "code",
      "source": [
        "from models import berth_storm_fragility as frag"
      ],
      "metadata": {
        "id": "fTtdklv0VKLl"
      },
      "execution_count": 5,
      "outputs": []
    },
    {
      "cell_type": "code",
      "source": [
        "# Checking docstrings of module\n",
        "help(frag)"
      ],
      "metadata": {
        "colab": {
          "base_uri": "https://localhost:8080/"
        },
        "id": "OuVR62TJV1xB",
        "outputId": "5746c47d-85d1-4570-863f-9ed0ff1da258"
      },
      "execution_count": 6,
      "outputs": [
        {
          "output_type": "stream",
          "name": "stdout",
          "text": [
            "Help on module models.berth_storm_fragility in models:\n",
            "\n",
            "NAME\n",
            "    models.berth_storm_fragility\n",
            "\n",
            "DESCRIPTION\n",
            "    # Fragility models for berth structures subjected to storms\n",
            "    # Author: Anibal Tafur (coding only, not model development)\n",
            "    # Last update: 2022-07-18\n",
            "\n",
            "FUNCTIONS\n",
            "    pile_connection_pf_balomenos(IM, params)\n",
            "        Description:\n",
            "        Fragility models for pile connections in wharves and piers.\n",
            "        Only uplift failure mode.\n",
            "        \n",
            "        Input:\n",
            "        IM: dict\n",
            "        IM['Hmax']: maximum wave height (m), range = [0,8m]\n",
            "        IM['Zc']: relative surge elevation (clearance) (m), range = [-2,2m]\n",
            "        \n",
            "        params: dict\n",
            "        params['moment']: moment connection type, 'full' or 'partial'\n",
            "        params['comp_zone']: compression zone, 'in' or 'out'\n",
            "        \n",
            "        Output:\n",
            "        pf = connection probability of failure\n",
            "        \n",
            "        Source:\n",
            "        Balomenos, G. P., & Padgett, J. E. (2018). \n",
            "        Fragility Analysis of Pile-Supported Wharves and Piers Exposed to \n",
            "        Storm Surge and Waves.\n",
            "        Journal of Waterway, Port, Coastal, and Ocean Engineering, 144(2), 04017046. \n",
            "        https://doi.org/10.1061/(ASCE)WW.1943-5460.0000436\n",
            "    \n",
            "    pile_connection_pf_flexural_maniglio(IM, params)\n",
            "        Description:\n",
            "        Fragility model for pile connections in wharves and piers.\n",
            "        Flexural failure only for seaward piles, considering aging effects.\n",
            "        \n",
            "        Input:\n",
            "        Hmax = IM['Hmax'] #Maximum wave height (m)\n",
            "        Zc   = IM['Zc'] #Relative surge elevation (positive is water below deck) (m)\n",
            "        \n",
            "        b1   = params['b1'] #Cantilever length (m)\n",
            "        b2   = params['b2'] #First span length (m)\n",
            "        bh   = params['bh'] #Deck thickness (m)\n",
            "        bw   = params['bw'] #Deck width (m)\n",
            "        dse  = params['dse'] #Dowel diameter (m)\n",
            "        nb   = params['nb'] #Number of dowels\n",
            "        dp   = params['dp'] #Pile diameter (m)\n",
            "        t    = params['t'] #Time (years)\n",
            "        X    = params['X'] # Concrete cover (cm)\n",
            "        depth = params['depth'] #Pile height (m)\n",
            "        corr  = params['corr'] #Corrosion type: 'uniform' or 'pitting'\n",
            "        \n",
            "        Output:\n",
            "        pf = connection probability of failure due to uplift\n",
            "        \n",
            "        Source:\n",
            "        Maniglio, M., Balomenos, G. P., Padgett, J. E., & Cimellaro, G. P. (2021).\n",
            "        Parameterized coastal fragilities and their application to aging port structures subjected to surge and wave.\n",
            "        Engineering Structures, 237(January), 112235. https://doi.org/10.1016/j.engstruct.2021.112235\n",
            "    \n",
            "    pile_connection_pf_uplift_maniglio(IM, params)\n",
            "        Description:\n",
            "        Fragility model for pile connections in wharves and piers.\n",
            "        Uplift failure mode, considering aging effects\n",
            "        \n",
            "        Input:\n",
            "        Hmax = IM['Hmax'] #Maximum wave height\n",
            "        Zc   = IM['Zc'] #Relative surge elevation (positive is water below deck)\n",
            "        \n",
            "        bh   = params['bh'] #Deck thickness (m)\n",
            "        bl   = params['bl'] #Deck length (m)\n",
            "        bw   = params['bw'] #Deck width (m)\n",
            "        dse  = params['dse'] #Dowel diameter (m)\n",
            "        nb   = params['nb'] #Number of dowels\n",
            "        pos  = params['pos'] # Pile position = 'internal' or 'seaward'\n",
            "        \n",
            "        Output:\n",
            "        pf = connection probability of failure due to uplift\n",
            "        \n",
            "        Source:\n",
            "        Maniglio, M., Balomenos, G. P., Padgett, J. E., & Cimellaro, G. P. (2021).\n",
            "        Parameterized coastal fragilities and their application to aging port structures subjected to surge and wave.\n",
            "        Engineering Structures, 237(January), 112235. https://doi.org/10.1016/j.engstruct.2021.112235\n",
            "    \n",
            "    pile_connection_uplift_pf(IM, params, model='maniglio')\n",
            "        Description:\n",
            "        Fragility model for pile connections in wharves and piers.\n",
            "        Uplift failure mode\n",
            "        2 models available: 'balomenos' and 'maniglio'\n",
            "        'maniglio' is the default model\n",
            "\n",
            "FILE\n",
            "    /content/models/berth_storm_fragility.py\n",
            "\n",
            "\n"
          ]
        }
      ]
    },
    {
      "cell_type": "code",
      "source": [
        "# Checking docstrings of function\n",
        "help(frag.pile_connection_pf_balomenos)"
      ],
      "metadata": {
        "colab": {
          "base_uri": "https://localhost:8080/"
        },
        "id": "GYdDYFFZVMph",
        "outputId": "8d1eb1b8-6eb4-43d0-8556-427e16a60186"
      },
      "execution_count": 7,
      "outputs": [
        {
          "output_type": "stream",
          "name": "stdout",
          "text": [
            "Help on function pile_connection_pf_balomenos in module models.berth_storm_fragility:\n",
            "\n",
            "pile_connection_pf_balomenos(IM, params)\n",
            "    Description:\n",
            "    Fragility models for pile connections in wharves and piers.\n",
            "    Only uplift failure mode.\n",
            "    \n",
            "    Input:\n",
            "    IM: dict\n",
            "    IM['Hmax']: maximum wave height (m), range = [0,8m]\n",
            "    IM['Zc']: relative surge elevation (clearance) (m), range = [-2,2m]\n",
            "    \n",
            "    params: dict\n",
            "    params['moment']: moment connection type, 'full' or 'partial'\n",
            "    params['comp_zone']: compression zone, 'in' or 'out'\n",
            "    \n",
            "    Output:\n",
            "    pf = connection probability of failure\n",
            "    \n",
            "    Source:\n",
            "    Balomenos, G. P., & Padgett, J. E. (2018). \n",
            "    Fragility Analysis of Pile-Supported Wharves and Piers Exposed to \n",
            "    Storm Surge and Waves.\n",
            "    Journal of Waterway, Port, Coastal, and Ocean Engineering, 144(2), 04017046. \n",
            "    https://doi.org/10.1061/(ASCE)WW.1943-5460.0000436\n",
            "\n"
          ]
        }
      ]
    },
    {
      "cell_type": "code",
      "source": [
        "# Testing function\n",
        "IM={}\n",
        "IM['Hmax'] = 4\n",
        "IM['Zc'] = -2\n",
        "\n",
        "params={}\n",
        "params['moment'] = 'full'\n",
        "params['comp_zone'] = 'in'\n",
        "\n",
        "frag.pile_connection_pf_balomenos(IM,params)"
      ],
      "metadata": {
        "colab": {
          "base_uri": "https://localhost:8080/"
        },
        "id": "USc-VQWpVk-Z",
        "outputId": "32e4df4c-53b1-44a0-a8c5-ade44233c86c"
      },
      "execution_count": 8,
      "outputs": [
        {
          "output_type": "execute_result",
          "data": {
            "text/plain": [
              "0.10909682119561294"
            ]
          },
          "metadata": {},
          "execution_count": 8
        }
      ]
    },
    {
      "cell_type": "code",
      "source": [
        "# Testing functions\n",
        "xdata = np.linspace(0.001,8,100)\n",
        "\n",
        "y1, y2, y3, y4 = ([] for i in range(4))\n",
        "\n",
        "for x in xdata:\n",
        "    y1.append(frag.pile_connection_pf_balomenos(IM=dict([('Hmax',x),('Zc',-2)]),\n",
        "                                      params=dict([('moment','full'),('comp_zone','in')])))\n",
        "    y2.append(frag.pile_connection_pf_balomenos(IM=dict([('Hmax',x),('Zc',-2)]),\n",
        "                                      params=dict([('moment','full'),('comp_zone','out')])))\n",
        "    y3.append(frag.pile_connection_pf_balomenos(IM=dict([('Hmax',x),('Zc',-2)]),\n",
        "                                      params=dict([('moment','partial'),('comp_zone','in')])))\n",
        "    y4.append(frag.pile_connection_pf_balomenos(IM=dict([('Hmax',x),('Zc',-2)]),\n",
        "                                      params=dict([('moment','partial'),('comp_zone','out')])))\n",
        "\n",
        "plt.plot(xdata, y1, label='FM-IN')\n",
        "plt.plot(xdata, y2, label='FM-OUT')\n",
        "plt.plot(xdata, y3, label='PM-IN')\n",
        "plt.plot(xdata, y4, label='PM-OUT')\n",
        "plt.xlabel(\"Hmax (m)\")\n",
        "plt.ylabel(\"pf\")\n",
        "plt.legend()\n",
        "plt.grid()\n",
        "plt.show()"
      ],
      "metadata": {
        "colab": {
          "base_uri": "https://localhost:8080/",
          "height": 279
        },
        "id": "2H1VmsLlQtoB",
        "outputId": "1771c297-3ce6-4d9f-9199-2c85110b214b"
      },
      "execution_count": 9,
      "outputs": [
        {
          "output_type": "display_data",
          "data": {
            "text/plain": [
              "<Figure size 432x288 with 1 Axes>"
            ],
            "image/png": "[encoded data removed]"
          },
          "metadata": {
            "needs_background": "light"
          }
        }
      ]
    },
    {
      "cell_type": "markdown",
      "source": [
        "More git commands that may be useful:\n",
        "\n",
        "```git status```\n",
        "\n",
        "```git checkout <commit_hash>```\n",
        "\n",
        "```git checkout tags/<tag>```\n",
        "\n",
        "```git checkout main```\n",
        "\n",
        "Another way of using a GitHub repository is configuring it as an installable package using a ```setup.py``` file and using ```pip install <repo_link>```. More info at: https://docs.python.org/3/distutils/setupscript.html"
      ],
      "metadata": {
        "id": "pbiPa5qdnCEa"
      }
    }
  ]
}